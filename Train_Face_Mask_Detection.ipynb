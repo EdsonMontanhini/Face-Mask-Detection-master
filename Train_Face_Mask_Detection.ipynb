{
  "nbformat": 4,
  "nbformat_minor": 0,
  "metadata": {
    "colab": {
      "provenance": []
    },
    "kernelspec": {
      "name": "python3",
      "display_name": "Python 3"
    },
    "language_info": {
      "name": "python"
    },
    "accelerator": "GPU",
    "gpuClass": "standard"
  },
  "cells": [
    {
      "cell_type": "markdown",
      "source": [
        "# Mask Wear Detection\n",
        "    \n",
        "## Face Mask Detection ( With Mask and With Out Mask )\n",
        "used Teck stock:\n",
        "1. Python\n",
        "2. Tensorflow\n",
        "3. Keras\n",
        "4.OpenCV\n",
        "5.MobileNet\n",
        "\n",
        "Process:\n",
        "1. Dataset Collection\n",
        "2. Data Preprocessing\n",
        "3. Training\n",
        "4. use the model in real-time camera\n"
      ],
      "metadata": {
        "id": "EBxMvQkA9gy0"
      }
    },
    {
      "cell_type": "code",
      "execution_count": null,
      "metadata": {
        "id": "McxukMrvoQ-f"
      },
      "outputs": [],
      "source": []
    },
    {
      "cell_type": "code",
      "source": [
        "# import the necessary packages\n",
        "from tensorflow.keras.preprocessing.image import ImageDataGenerator\n",
        "from tensorflow.keras.applications import MobileNetV2\n",
        "from tensorflow.keras.layers import AveragePooling2D\n",
        "from tensorflow.keras.layers import Dropout\n",
        "from tensorflow.keras.layers import Flatten\n",
        "from tensorflow.keras.layers import Dense\n",
        "from tensorflow.keras.layers import Input\n",
        "from tensorflow.keras.models import Model\n",
        "from tensorflow.keras.optimizers import Adam\n",
        "from tensorflow.keras.applications.mobilenet_v2 import preprocess_input\n",
        "from tensorflow.keras.preprocessing.image import img_to_array\n",
        "from tensorflow.keras.preprocessing.image import load_img\n",
        "from tensorflow.keras.utils import to_categorical\n",
        "from sklearn.preprocessing import LabelBinarizer\n",
        "from sklearn.model_selection import train_test_split\n",
        "from sklearn.metrics import classification_report\n",
        "from imutils import paths\n",
        "import matplotlib.pyplot as plt\n",
        "import numpy as np\n",
        "import os"
      ],
      "metadata": {
        "id": "638iNP9CoYxx"
      },
      "execution_count": 1,
      "outputs": []
    },
    {
      "cell_type": "code",
      "source": [
        "# initialize the initial learning rate, number of epochs to train for,\n",
        "# and batch size\n",
        "INIT_LR = 1e-4\n",
        "EPOCHS = 20\n",
        "BS = 32"
      ],
      "metadata": {
        "id": "guj2V7n_oY1q"
      },
      "execution_count": 2,
      "outputs": []
    },
    {
      "cell_type": "code",
      "source": [
        "from google.colab import drive\n",
        "drive.mount('/content/drive')"
      ],
      "metadata": {
        "colab": {
          "base_uri": "https://localhost:8080/"
        },
        "id": "Oa6idP88rHIN",
        "outputId": "7df2204b-4799-4f38-8955-c2e56451270a"
      },
      "execution_count": 3,
      "outputs": [
        {
          "output_type": "stream",
          "name": "stdout",
          "text": [
            "Mounted at /content/drive\n"
          ]
        }
      ]
    },
    {
      "cell_type": "code",
      "source": [
        "ROOT_PATH = '/content/drive/MyDrive/cat-dog-project'"
      ],
      "metadata": {
        "id": "oJ0LRWO3rcBu"
      },
      "execution_count": 4,
      "outputs": []
    },
    {
      "cell_type": "code",
      "source": [
        "DIRECTORY = r\"/content/drive/MyDrive/Face-Mask-Detection/dataset\"\n",
        "CATEGORIES = [\"with_mask\", \"without_mask\"]\n"
      ],
      "metadata": {
        "id": "16UTqb36oY56"
      },
      "execution_count": 5,
      "outputs": []
    },
    {
      "cell_type": "code",
      "source": [
        "# grab the list of images in our dataset directory, then initialize\n",
        "# the list of data (i.e., images) and class images\n",
        "print(\"[INFO] loading images...\")"
      ],
      "metadata": {
        "colab": {
          "base_uri": "https://localhost:8080/"
        },
        "id": "SIXn1LpupAid",
        "outputId": "355cc421-969a-4982-8282-9108158dfaf6"
      },
      "execution_count": 6,
      "outputs": [
        {
          "output_type": "stream",
          "name": "stdout",
          "text": [
            "[INFO] loading images...\n"
          ]
        }
      ]
    },
    {
      "cell_type": "code",
      "source": [
        "data = []\n",
        "labels = []\n",
        "\n",
        "for category in CATEGORIES:\n",
        "    path = os.path.join(DIRECTORY, category)\n",
        "    for img in os.listdir(path):\n",
        "    \timg_path = os.path.join(path, img)\n",
        "    \timage = load_img(img_path, target_size=(224, 224))\n",
        "    \timage = img_to_array(image)\n",
        "    \timage = preprocess_input(image)\n",
        "\n",
        "    \tdata.append(image)\n",
        "    \tlabels.append(category)\n"
      ],
      "metadata": {
        "colab": {
          "base_uri": "https://localhost:8080/"
        },
        "id": "6nBznHAJpAmv",
        "outputId": "c63dee06-eeb0-4a3f-e446-46c7b8f45c2e"
      },
      "execution_count": 7,
      "outputs": [
        {
          "output_type": "stream",
          "name": "stderr",
          "text": [
            "/usr/local/lib/python3.9/dist-packages/PIL/Image.py:975: UserWarning: Palette images with Transparency expressed in bytes should be converted to RGBA images\n",
            "  warnings.warn(\n"
          ]
        }
      ]
    },
    {
      "cell_type": "code",
      "source": [
        "# perform one-hot encoding on the labels\n",
        "lb = LabelBinarizer()\n",
        "labels = lb.fit_transform(labels)\n",
        "labels = to_categorical(labels)\n",
        "\n",
        "data = np.array(data, dtype=\"float32\")\n",
        "labels = np.array(labels)"
      ],
      "metadata": {
        "id": "Z1kTljnzpHGi"
      },
      "execution_count": 8,
      "outputs": []
    },
    {
      "cell_type": "code",
      "source": [
        "(trainX, testX, trainY, testY) = train_test_split(data, labels,\n",
        "\ttest_size=0.20, stratify=labels, random_state=42)\n"
      ],
      "metadata": {
        "id": "jle2FepCsTVL"
      },
      "execution_count": 9,
      "outputs": []
    },
    {
      "cell_type": "code",
      "source": [
        "trainX.shape,trainY.shape"
      ],
      "metadata": {
        "colab": {
          "base_uri": "https://localhost:8080/"
        },
        "id": "tJ6v1fiLsZnB",
        "outputId": "6d9052b6-1c98-46f6-cb15-651c07c0fe58"
      },
      "execution_count": 10,
      "outputs": [
        {
          "output_type": "execute_result",
          "data": {
            "text/plain": [
              "((2845, 224, 224, 3), (2845, 2))"
            ]
          },
          "metadata": {},
          "execution_count": 10
        }
      ]
    },
    {
      "cell_type": "code",
      "source": [
        "testX.shape,testY.shape"
      ],
      "metadata": {
        "colab": {
          "base_uri": "https://localhost:8080/"
        },
        "id": "yl-zQFu6sepP",
        "outputId": "9a6e76f0-334f-4e0c-ceff-55a7f93b282d"
      },
      "execution_count": 11,
      "outputs": [
        {
          "output_type": "execute_result",
          "data": {
            "text/plain": [
              "((712, 224, 224, 3), (712, 2))"
            ]
          },
          "metadata": {},
          "execution_count": 11
        }
      ]
    },
    {
      "cell_type": "code",
      "source": [
        "# construct the training image generator for data augmentation\n",
        "aug = ImageDataGenerator(\n",
        "\trotation_range=20,\n",
        "\tzoom_range=0.15,\n",
        "\twidth_shift_range=0.2,\n",
        "\theight_shift_range=0.2,\n",
        "\tshear_range=0.15,\n",
        "\thorizontal_flip=True,\n",
        "\tfill_mode=\"nearest\")"
      ],
      "metadata": {
        "id": "BmFzYLrgskcu"
      },
      "execution_count": 12,
      "outputs": []
    },
    {
      "cell_type": "code",
      "source": [
        "# load the MobileNetV2 network, ensuring the head FC layer sets are\n",
        "# left off\n",
        "baseModel = MobileNetV2(weights=\"imagenet\", include_top=False,\n",
        "\tinput_tensor=Input(shape=(224, 224, 3)))\n"
      ],
      "metadata": {
        "colab": {
          "base_uri": "https://localhost:8080/"
        },
        "id": "gJIFFb4ost_m",
        "outputId": "4195d994-c4de-40ca-8ab7-ed79e9c7391d"
      },
      "execution_count": 13,
      "outputs": [
        {
          "output_type": "stream",
          "name": "stderr",
          "text": [
            "WARNING:tensorflow:`input_shape` is undefined or non-square, or `rows` is not in [96, 128, 160, 192, 224]. Weights for input shape (224, 224) will be loaded as the default.\n"
          ]
        },
        {
          "output_type": "stream",
          "name": "stdout",
          "text": [
            "Downloading data from https://storage.googleapis.com/tensorflow/keras-applications/mobilenet_v2/mobilenet_v2_weights_tf_dim_ordering_tf_kernels_1.0_224_no_top.h5\n",
            "9406464/9406464 [==============================] - 2s 0us/step\n"
          ]
        }
      ]
    },
    {
      "cell_type": "code",
      "source": [
        "# construct the head of the model that will be placed on top of the\n",
        "# the base model\n",
        "headModel = baseModel.output\n",
        "headModel = AveragePooling2D(pool_size=(7, 7))(headModel)\n",
        "headModel = Flatten(name=\"flatten\")(headModel)\n",
        "headModel = Dense(128, activation=\"relu\")(headModel)\n",
        "headModel = Dropout(0.5)(headModel)\n",
        "headModel = Dense(2, activation=\"softmax\")(headModel)\n"
      ],
      "metadata": {
        "id": "uAixeqADsuEo"
      },
      "execution_count": 14,
      "outputs": []
    },
    {
      "cell_type": "code",
      "source": [
        "# place the head FC model on top of the base model (this will become\n",
        "# the actual model we will train)\n",
        "model = Model(inputs=baseModel.input, outputs=headModel)"
      ],
      "metadata": {
        "id": "VGnqjUFCsuKO"
      },
      "execution_count": 15,
      "outputs": []
    },
    {
      "cell_type": "code",
      "source": [
        "#loop over all layers in the base model and freeze them so they will\n",
        "# *not* be updated during the first training process\n",
        "for layer in baseModel.layers:\n",
        "\tlayer.trainable = False\n"
      ],
      "metadata": {
        "id": "2z3MRAIQs-Mp"
      },
      "execution_count": 16,
      "outputs": []
    },
    {
      "cell_type": "code",
      "source": [
        "# compile our model\n",
        "print(\"[INFO] compiling model...\")\n",
        "opt = Adam(learning_rate=INIT_LR, weight_decay=INIT_LR / EPOCHS)\n",
        "model.compile(loss=\"binary_crossentropy\", optimizer=opt,\n",
        "\tmetrics=[\"accuracy\"])\n"
      ],
      "metadata": {
        "colab": {
          "base_uri": "https://localhost:8080/"
        },
        "id": "TC9RcZGLs-RE",
        "outputId": "f9405e18-78e6-4207-d7ca-f3921f877147"
      },
      "execution_count": 17,
      "outputs": [
        {
          "output_type": "stream",
          "name": "stdout",
          "text": [
            "[INFO] compiling model...\n"
          ]
        }
      ]
    },
    {
      "cell_type": "code",
      "source": [
        "# train the head of the network\n",
        "print(\"[INFO] training head...\")\n",
        "H = model.fit(\n",
        "\taug.flow(trainX, trainY, batch_size=BS),\n",
        "\tsteps_per_epoch=len(trainX) // BS,\n",
        "\tvalidation_data=(testX, testY),\n",
        "\tvalidation_steps=len(testX) // BS,\n",
        "\tepochs=EPOCHS)"
      ],
      "metadata": {
        "colab": {
          "base_uri": "https://localhost:8080/"
        },
        "id": "dpZN9OBpvS5E",
        "outputId": "601df96e-de02-4de4-88c3-c4a8fc33d5b9"
      },
      "execution_count": 18,
      "outputs": [
        {
          "output_type": "stream",
          "name": "stdout",
          "text": [
            "[INFO] training head...\n",
            "Epoch 1/20\n",
            "88/88 [==============================] - 48s 385ms/step - loss: 0.4316 - accuracy: 0.8279 - val_loss: 0.2021 - val_accuracy: 0.9593\n",
            "Epoch 2/20\n",
            "88/88 [==============================] - 31s 353ms/step - loss: 0.1590 - accuracy: 0.9605 - val_loss: 0.1161 - val_accuracy: 0.9677\n",
            "Epoch 3/20\n",
            "88/88 [==============================] - 42s 473ms/step - loss: 0.0971 - accuracy: 0.9758 - val_loss: 0.0895 - val_accuracy: 0.9705\n",
            "Epoch 4/20\n",
            "88/88 [==============================] - 33s 367ms/step - loss: 0.0870 - accuracy: 0.9794 - val_loss: 0.0828 - val_accuracy: 0.9705\n",
            "Epoch 5/20\n",
            "88/88 [==============================] - 31s 350ms/step - loss: 0.0652 - accuracy: 0.9815 - val_loss: 0.0720 - val_accuracy: 0.9747\n",
            "Epoch 6/20\n",
            "88/88 [==============================] - 31s 351ms/step - loss: 0.0517 - accuracy: 0.9879 - val_loss: 0.0654 - val_accuracy: 0.9831\n",
            "Epoch 7/20\n",
            "88/88 [==============================] - 31s 347ms/step - loss: 0.0472 - accuracy: 0.9879 - val_loss: 0.0639 - val_accuracy: 0.9761\n",
            "Epoch 8/20\n",
            "88/88 [==============================] - 32s 367ms/step - loss: 0.0462 - accuracy: 0.9865 - val_loss: 0.0616 - val_accuracy: 0.9775\n",
            "Epoch 9/20\n",
            "88/88 [==============================] - 37s 416ms/step - loss: 0.0429 - accuracy: 0.9876 - val_loss: 0.0589 - val_accuracy: 0.9789\n",
            "Epoch 10/20\n",
            "88/88 [==============================] - 41s 467ms/step - loss: 0.0403 - accuracy: 0.9872 - val_loss: 0.0619 - val_accuracy: 0.9761\n",
            "Epoch 11/20\n",
            "88/88 [==============================] - 32s 366ms/step - loss: 0.0401 - accuracy: 0.9883 - val_loss: 0.0552 - val_accuracy: 0.9775\n",
            "Epoch 12/20\n",
            "88/88 [==============================] - 32s 368ms/step - loss: 0.0364 - accuracy: 0.9886 - val_loss: 0.0517 - val_accuracy: 0.9860\n",
            "Epoch 13/20\n",
            "88/88 [==============================] - 32s 361ms/step - loss: 0.0307 - accuracy: 0.9890 - val_loss: 0.0503 - val_accuracy: 0.9846\n",
            "Epoch 14/20\n",
            "88/88 [==============================] - 33s 372ms/step - loss: 0.0311 - accuracy: 0.9879 - val_loss: 0.0533 - val_accuracy: 0.9803\n",
            "Epoch 15/20\n",
            "88/88 [==============================] - 31s 355ms/step - loss: 0.0286 - accuracy: 0.9922 - val_loss: 0.0497 - val_accuracy: 0.9817\n",
            "Epoch 16/20\n",
            "88/88 [==============================] - 32s 359ms/step - loss: 0.0274 - accuracy: 0.9904 - val_loss: 0.0456 - val_accuracy: 0.9846\n",
            "Epoch 17/20\n",
            "88/88 [==============================] - 44s 485ms/step - loss: 0.0265 - accuracy: 0.9929 - val_loss: 0.0460 - val_accuracy: 0.9846\n",
            "Epoch 18/20\n",
            "88/88 [==============================] - 34s 380ms/step - loss: 0.0319 - accuracy: 0.9922 - val_loss: 0.0479 - val_accuracy: 0.9846\n",
            "Epoch 19/20\n",
            "88/88 [==============================] - 31s 358ms/step - loss: 0.0204 - accuracy: 0.9943 - val_loss: 0.0459 - val_accuracy: 0.9846\n",
            "Epoch 20/20\n",
            "88/88 [==============================] - 33s 376ms/step - loss: 0.0225 - accuracy: 0.9936 - val_loss: 0.0504 - val_accuracy: 0.9817\n"
          ]
        }
      ]
    },
    {
      "cell_type": "code",
      "source": [
        "# make predictions on the testing set\n",
        "print(\"[INFO] evaluating network...\")\n",
        "predIdxs = model.predict(testX, batch_size=BS)"
      ],
      "metadata": {
        "colab": {
          "base_uri": "https://localhost:8080/"
        },
        "id": "HzxBqn5fvjrO",
        "outputId": "abd4a0f2-980e-432c-f6ac-ab165caa2aea"
      },
      "execution_count": 19,
      "outputs": [
        {
          "output_type": "stream",
          "name": "stdout",
          "text": [
            "[INFO] evaluating network...\n",
            "23/23 [==============================] - 2s 56ms/step\n"
          ]
        }
      ]
    },
    {
      "cell_type": "code",
      "source": [
        "# for each image in the testing set we need to find the index of the\n",
        "# label with corresponding largest predicted probability\n",
        "predIdxs = np.argmax(predIdxs, axis=1)"
      ],
      "metadata": {
        "id": "3-Aj9KEgw7Cc"
      },
      "execution_count": 20,
      "outputs": []
    },
    {
      "cell_type": "code",
      "source": [
        "# show a nicely formatted classification report\n",
        "print(classification_report(testY.argmax(axis=1), predIdxs,\n",
        "\ttarget_names=lb.classes_))"
      ],
      "metadata": {
        "colab": {
          "base_uri": "https://localhost:8080/"
        },
        "id": "sUEtoYZTxN_E",
        "outputId": "e16c2925-42d6-4ccb-a99c-5c65ccb9f1aa"
      },
      "execution_count": 21,
      "outputs": [
        {
          "output_type": "stream",
          "name": "stdout",
          "text": [
            "              precision    recall  f1-score   support\n",
            "\n",
            "   with_mask       0.97      0.99      0.98       383\n",
            "without_mask       0.99      0.97      0.98       329\n",
            "\n",
            "    accuracy                           0.98       712\n",
            "   macro avg       0.98      0.98      0.98       712\n",
            "weighted avg       0.98      0.98      0.98       712\n",
            "\n"
          ]
        }
      ]
    },
    {
      "cell_type": "code",
      "source": [
        "# serialize the model to disk\n",
        "print(\"[INFO] saving mask detector model...\")\n",
        "model.save(\"mask_detector2.h5\")\n"
      ],
      "metadata": {
        "colab": {
          "base_uri": "https://localhost:8080/"
        },
        "id": "IDu7Z092xOD-",
        "outputId": "50456aae-31d0-4775-a2fe-ed3aecc6b90b"
      },
      "execution_count": 22,
      "outputs": [
        {
          "output_type": "stream",
          "name": "stdout",
          "text": [
            "[INFO] saving mask detector model...\n"
          ]
        }
      ]
    },
    {
      "cell_type": "code",
      "source": [
        "# plot the training loss and accuracy\n",
        "N = EPOCHS\n",
        "plt.style.use(\"ggplot\")\n",
        "plt.figure()\n",
        "plt.plot(np.arange(0, N), H.history[\"loss\"], label=\"train_loss\")\n",
        "plt.plot(np.arange(0, N), H.history[\"val_loss\"], label=\"val_loss\")\n",
        "plt.plot(np.arange(0, N), H.history[\"accuracy\"], label=\"train_acc\")\n",
        "plt.plot(np.arange(0, N), H.history[\"val_accuracy\"], label=\"val_acc\")\n",
        "plt.title(\"Training Loss and Accuracy\")\n",
        "plt.xlabel(\"Epoch #\")\n",
        "plt.ylabel(\"Loss/Accuracy\")\n",
        "plt.legend(loc=\"lower left\")\n",
        "plt.savefig(\"plot.png\")"
      ],
      "metadata": {
        "colab": {
          "base_uri": "https://localhost:8080/",
          "height": 477
        },
        "id": "824pdkEuxOKS",
        "outputId": "6f941e01-13ab-43ab-9234-db2cce1b6f3c"
      },
      "execution_count": 23,
      "outputs": [
        {
          "output_type": "display_data",
          "data": {
            "text/plain": [
              "<Figure size 640x480 with 1 Axes>"
            ],
            "image/png": "[encoded data removed]"
          },
          "metadata": {}
        }
      ]
    },
    {
      "cell_type": "code",
      "source": [
        "from tensorflow.keras.models import load_model\n",
        "from tensorflow.keras.preprocessing import image"
      ],
      "metadata": {
        "id": "k_Sj11zu47dP"
      },
      "execution_count": 25,
      "outputs": []
    },
    {
      "cell_type": "code",
      "source": [
        "model=load_model('mask_detector2.h5')"
      ],
      "metadata": {
        "id": "fnTNpuyBxOSx"
      },
      "execution_count": 27,
      "outputs": []
    },
    {
      "cell_type": "code",
      "source": [
        "img=image.load_img('/content/photo ramdas.jpg',target_size=(224,224))"
      ],
      "metadata": {
        "id": "KRuVxytkyfaZ"
      },
      "execution_count": 28,
      "outputs": []
    },
    {
      "cell_type": "code",
      "source": [
        "x=image.img_to_array(img)\n",
        "x"
      ],
      "metadata": {
        "colab": {
          "base_uri": "https://localhost:8080/"
        },
        "id": "vXLOafdcyYtH",
        "outputId": "6bb98dbf-f683-4add-92d0-50558057ba6f"
      },
      "execution_count": 29,
      "outputs": [
        {
          "output_type": "execute_result",
          "data": {
            "text/plain": [
              "array([[[ 58., 176., 237.],\n",
              "        [ 65., 183., 244.],\n",
              "        [ 53., 186., 242.],\n",
              "        ...,\n",
              "        [ 58., 179., 224.],\n",
              "        [ 58., 179., 224.],\n",
              "        [ 58., 179., 224.]],\n",
              "\n",
              "       [[ 65., 183., 244.],\n",
              "        [ 65., 183., 244.],\n",
              "        [ 39., 172., 228.],\n",
              "        ...,\n",
              "        [ 58., 179., 224.],\n",
              "        [ 58., 179., 224.],\n",
              "        [ 58., 179., 224.]],\n",
              "\n",
              "       [[ 65., 183., 244.],\n",
              "        [ 65., 183., 244.],\n",
              "        [ 48., 181., 237.],\n",
              "        ...,\n",
              "        [ 51., 172., 217.],\n",
              "        [ 58., 179., 224.],\n",
              "        [ 58., 176., 237.]],\n",
              "\n",
              "       ...,\n",
              "\n",
              "       [[ 22.,  88., 136.],\n",
              "        [  3., 167., 204.],\n",
              "        [ 11., 190., 230.],\n",
              "        ...,\n",
              "        [  1., 195., 230.],\n",
              "        [  0., 118., 179.],\n",
              "        [  4.,  81., 127.]],\n",
              "\n",
              "       [[ 22.,  88., 136.],\n",
              "        [  3., 167., 204.],\n",
              "        [ 11., 190., 230.],\n",
              "        ...,\n",
              "        [  1., 195., 230.],\n",
              "        [  5., 123., 184.],\n",
              "        [  0.,  76., 122.]],\n",
              "\n",
              "       [[ 26.,  90., 152.],\n",
              "        [  9., 170., 222.],\n",
              "        [  6., 185., 225.],\n",
              "        ...,\n",
              "        [  1., 195., 230.],\n",
              "        [  1., 119., 180.],\n",
              "        [  0.,  69., 100.]]], dtype=float32)"
            ]
          },
          "metadata": {},
          "execution_count": 29
        }
      ]
    }
  ]
}